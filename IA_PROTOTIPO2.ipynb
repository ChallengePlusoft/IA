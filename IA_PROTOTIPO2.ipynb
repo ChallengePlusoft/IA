{
  "nbformat": 4,
  "nbformat_minor": 0,
  "metadata": {
    "colab": {
      "provenance": []
    },
    "kernelspec": {
      "name": "python3",
      "display_name": "Python 3"
    },
    "language_info": {
      "name": "python"
    }
  },
  "cells": [
    {
      "cell_type": "markdown",
      "source": [
        "# Importando bibliotecas que serão utilizadas no código"
      ],
      "metadata": {
        "id": "Z7DCxz57G4NA"
      }
    },
    {
      "cell_type": "code",
      "source": [
        "# IMPORTAR BIBLIOTECAS NECESSÁRIAS\n",
        "\n",
        "!pip install oracledb\n",
        "import oracledb\n",
        "\n",
        "import pandas as pd\n",
        "from sklearn.model_selection import train_test_split\n",
        "from sklearn.ensemble import RandomForestClassifier\n",
        "from sklearn.metrics import accuracy_score\n",
        "from IPython.display import display"
      ],
      "metadata": {
        "id": "vIQuIr1qCq7B"
      },
      "execution_count": null,
      "outputs": []
    },
    {
      "cell_type": "markdown",
      "source": [
        "----\n",
        "----\n",
        "\n",
        "### Criando conexão com o banco de dados oracle, utilizando a biblioteca\n",
        "\n",
        "```\n",
        "!pip install oracledb\n",
        "import oracledb\n",
        "```\n",
        "\n"
      ],
      "metadata": {
        "id": "VSl4xkK0HFd9"
      }
    },
    {
      "cell_type": "code",
      "source": [
        "# CONFIGURAÇÃO DE CONEXÃO COM O BANCO DE DADOS ORACLE\n",
        "connection = oracledb.connect(user='rm551451', password='fiap23', dsn='oracle.fiap.com.br:1521/orcl')"
      ],
      "metadata": {
        "collapsed": true,
        "id": "gJdOGE9kCx9M"
      },
      "execution_count": null,
      "outputs": []
    },
    {
      "cell_type": "markdown",
      "source": [
        "----\n",
        "----\n",
        "\n",
        "### Puxar os dados das tabelas, no banco de dados oracle e depois exibir os dados no console\n",
        "\n",
        "> IA_PRODUTO\n",
        "\n",
        "> IA_CLIENTE\n",
        "\n",
        "> IA_HISTORICO_PESQUISA\n",
        "\n",
        "\n",
        "\n"
      ],
      "metadata": {
        "id": "YVdDu08yHd9I"
      }
    },
    {
      "cell_type": "code",
      "source": [
        "# Função para carregar os dados de produtos e características dos usuários\n",
        "def load_data():\n",
        "    query_produtos = \"SELECT * FROM IA_PRODUTO\"\n",
        "    query_clientes = \"SELECT * FROM IA_CLIENTE\"\n",
        "    query_historico = \"SELECT * FROM IA_HISTORICO_PESQUISA\"\n",
        "\n",
        "    df_produtos = pd.read_sql(query_produtos, con=connection)\n",
        "    df_clientes = pd.read_sql(query_clientes, con=connection)\n",
        "    df_historico = pd.read_sql(query_historico, con=connection)\n",
        "\n",
        "    return df_produtos, df_clientes, df_historico\n",
        "\n",
        "# Acionando a função\n",
        "df_produtos, df_clientes, df_historico = load_data()\n",
        "\n",
        "# Exibindo os dados\n",
        "display(df_produtos.head())\n",
        "display(df_clientes.head())\n",
        "display(df_historico.head())"
      ],
      "metadata": {
        "id": "TdrJ9G35C7t2"
      },
      "execution_count": null,
      "outputs": []
    },
    {
      "cell_type": "markdown",
      "source": [
        "----\n",
        "----\n",
        "### Processar os dados obtidos nos SELECTS"
      ],
      "metadata": {
        "id": "PrN9BcURIDhB"
      }
    },
    {
      "cell_type": "code",
      "source": [
        "# PRÉ-PROCESSAMENTO DOS DADOS\n",
        "def preprocess_data(df_produtos, df_clientes, df_historico):\n",
        "    # Merge dos dados relevantes\n",
        "    df = pd.merge(df_historico, df_clientes, left_on='CLIENTE_ID', right_on='ID')\n",
        "    df = pd.merge(df, df_produtos, left_on='PRODUTO_ID', right_on='ID')\n",
        "\n",
        "    # Selecionar apenas as colunas relevantes para a recomendação\n",
        "    features = ['COR_PELE', 'ESTADO_CIVIL', 'MARCA_PREFERIDA', 'NOME_PRODUTO']\n",
        "    df = df[features]\n",
        "\n",
        "    # Convertendo colunas categóricas em variáveis dummy\n",
        "    df = pd.get_dummies(df, columns=['COR_PELE', 'ESTADO_CIVIL', 'MARCA_PREFERIDA'])\n",
        "\n",
        "    return df\n",
        "\n",
        "# ACIONANDO A FUNÇÃO DE PROCESSAMENTO DOS DADOS\n",
        "df = preprocess_data(df_produtos, df_clientes, df_historico)\n",
        "\n",
        "# Verificando o DataFrame resultante\n",
        "display(df.head())\n",
        "\n"
      ],
      "metadata": {
        "id": "7JyomUdmDlzN"
      },
      "execution_count": null,
      "outputs": []
    },
    {
      "cell_type": "markdown",
      "source": [
        "----\n",
        "----\n",
        "\n",
        "### Fazendo divisao entre dados de TREINO e dados de TESTE, para realizar o modelo de treinamento."
      ],
      "metadata": {
        "id": "ZeelcEidIUUq"
      }
    },
    {
      "cell_type": "code",
      "source": [
        "# DIVIDINDO OS DADOS EM TREINO E TESTE\n",
        "X = df.drop('NOME_PRODUTO', axis=1)\n",
        "y = df['NOME_PRODUTO']\n",
        "X_train, X_test, y_train, y_test = train_test_split(X, y, test_size=0.2, random_state=42)\n",
        "\n",
        "# TREINANDO UM MODELO DE CLASSIFICAÇÃO\n",
        "model = RandomForestClassifier(n_estimators=100, random_state=42)\n",
        "model.fit(X_train, y_train)\n",
        "\n"
      ],
      "metadata": {
        "id": "5LpoMtF9DzIe"
      },
      "execution_count": null,
      "outputs": []
    },
    {
      "cell_type": "markdown",
      "source": [
        "----\n",
        "----\n",
        "\n",
        "### Buscando dados do usuário no banco e enviando para a função de recomendação de produtos\n",
        "\n",
        "### Função para recomendar o produto, de acordo com a analise e o treinamento do modelo"
      ],
      "metadata": {
        "id": "fB_4R5XeJdxW"
      }
    },
    {
      "cell_type": "code",
      "execution_count": null,
      "metadata": {
        "id": "4UbAy4EnCHrt",
        "colab": {
          "base_uri": "https://localhost:8080/"
        },
        "outputId": "c19e8e2a-7429-4a39-e97d-e32909b0fc77"
      },
      "outputs": [
        {
          "output_type": "stream",
          "name": "stderr",
          "text": [
            "<ipython-input-40-c5ccedb69ab9>:15: UserWarning: pandas only supports SQLAlchemy connectable (engine/connection) or database string URI or sqlite3 DBAPI2 connection. Other DBAPI2 objects are not tested. Please consider using SQLAlchemy.\n",
            "  df_cliente = pd.read_sql(query_cliente, con=connection)\n"
          ]
        }
      ],
      "source": [
        "# FUNÇÃO PARA RECOMENDAR PRODUTOS\n",
        "def recommend_product(client_data):\n",
        "    client_df = pd.DataFrame([client_data])\n",
        "    client_df = pd.get_dummies(client_df)\n",
        "\n",
        "    # Alinhar as colunas do client_df com as colunas usadas no treinamento\n",
        "    client_df = client_df.reindex(columns=X.columns, fill_value=0)\n",
        "\n",
        "    recommended_product = model.predict(client_df)\n",
        "    return recommended_product[0]\n",
        "\n",
        "# Buscar dados de um cliente específico no banco de dados\n",
        "def get_client_data(client_id):\n",
        "    query_cliente = f\"SELECT * FROM IA_CLIENTE WHERE ID = {client_id}\"\n",
        "    df_cliente = pd.read_sql(query_cliente, con=connection)\n",
        "\n",
        "    if df_cliente.empty:\n",
        "        raise ValueError(\"Cliente não encontrado.\")\n",
        "\n",
        "    # Mapeando os dados do cliente para o formato esperado pela função recommend_product\n",
        "    client_data = {\n",
        "        'COR_PELE': df_cliente.iloc[0]['COR_PELE'],\n",
        "        'ESTADO_CIVIL': df_cliente.iloc[0]['ESTADO_CIVIL'],\n",
        "        'MARCA_PREFERIDA': df_cliente.iloc[0]['MARCA_PREFERIDA']\n",
        "    }\n",
        "\n",
        "    return client_data\n",
        "\n",
        "# Exemplo de uso\n",
        "try:\n",
        "    client_id = 1  # Substitua pelo ID do cliente que você deseja buscar\n",
        "    client_data = get_client_data(client_id)\n",
        "    recommended_product = recommend_product(client_data)\n",
        "    print(f\"\\n\\nProduto recomendado: {recommended_product}\\n\\n\")\n",
        "except ValueError as e:\n",
        "    print(e)\n"
      ]
    }
  ]
}